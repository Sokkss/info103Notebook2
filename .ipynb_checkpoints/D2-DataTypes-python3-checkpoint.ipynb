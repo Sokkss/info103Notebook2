{
 "cells": [
  {
   "cell_type": "markdown",
   "metadata": {},
   "source": [
    "# INFO 103: Introduction to data science <br> Demo \\#2: Data Types <br> Author: JRW"
   ]
  },
  {
   "cell_type": "markdown",
   "metadata": {},
   "source": [
    "## Data\n",
    "Here's a list of the files that we will be working with in this notebook:\n",
    "\n",
    "* Image: ./Rgb-raster-image_smile.jpg\n",
    "* Text: ./MobyDick.txt\n",
    "* Spreadsheet: ./APPL.csv\n",
    "* html: ./index.html\n",
    "* json: ./youtube.json\n",
    "* xml: ./simple.xml\n",
    "\n",
    "All of the paths start with a './' because they should be in the same directory as this notebook. Also, here are the sources, for reference:\n",
    "\n",
    "* Image: https://en.wikipedia.org/wiki/Raster_graphics\n",
    "* Text: http://www.gutenberg.org/ebooks/2701\n",
    "* Spreadsheet: https://finance.yahoo.com/quote/AAPL/history?p=AAPL\n",
    "* html: http://www.example.com\n",
    "* json: https://www.sitepoint.com/10-example-json-files/\n",
    "* xml: https://www.w3schools.com/xml/xml_examples.asp"
   ]
  },
  {
   "cell_type": "markdown",
   "metadata": {},
   "source": [
    "### Modules"
   ]
  },
  {
   "cell_type": "code",
   "execution_count": 48,
   "metadata": {},
   "outputs": [],
   "source": [
    "import numpy as np ## numpy provides a suite of numerical \n",
    "import pandas as pd ## pandas provides nice ordered array (spreadsheet) handling\n",
    "import re ## re provides regular expressions, which help with text\n",
    "import json ## json provides json-format data management\n",
    "import datetime ## datetime interprets dates as numerical quantities\n",
    "from bs4 import BeautifulSoup ## Beautifulsoup parses html, thus, also xml!\n",
    "from IPython.core.display import display ## display allows you to show an image here in the notebook\n",
    "from PIL import Image ## Image allows you to edit image data\n",
    "from io import BytesIO "
   ]
  },
  {
   "cell_type": "markdown",
   "metadata": {},
   "source": [
    "### Spreadsheets\n",
    "I'm pretty basic when it comes to programming, so I usually just use base Python with for loops and regular expressions, but for convenience we'll use pandas, which is great for manipulating spreadsheets as 2-d arrays. Here are what the parameters we use:\n",
    "\n",
    "* filepath_or_buffer: specifies the name of the file\n",
    "* sep: specifies the column separator, here, commmas\n",
    "* header: specifies where the header is, here, row 1\n",
    "* parse_dates: specifies columns to be treated as timestamp objects\n",
    "\n",
    "The resulting pandas object is a \"dataframe\"."
   ]
  },
  {
   "cell_type": "code",
   "execution_count": 49,
   "metadata": {},
   "outputs": [
    {
     "name": "stdout",
     "output_type": "stream",
     "text": [
      "Index(['Date', 'Open', 'High', 'Low', 'Close', 'Volume', 'Adj Close'], dtype='object')\n"
     ]
    }
   ],
   "source": [
    "APPL = pd.read_csv(filepath_or_buffer=\"APPL.csv\", sep=\",\", header=0, parse_dates = [0])\n",
    "print(APPL.keys())"
   ]
  },
  {
   "cell_type": "markdown",
   "metadata": {},
   "source": [
    "You can access the rows with indices:"
   ]
  },
  {
   "cell_type": "code",
   "execution_count": 50,
   "metadata": {
    "scrolled": true
   },
   "outputs": [
    {
     "name": "stdout",
     "output_type": "stream",
     "text": [
      "        Date       Open       High        Low      Close    Volume  Adj Close\n",
      "1 2016-07-12  97.169998  97.699997  97.120003  97.419998  24167500  95.984011\n",
      "2 2016-07-11  96.750000  97.650002  96.730003  96.980003  23794900  95.550502\n",
      "3 2016-07-08  96.489998  96.889999  96.050003  96.680000  28912100  95.254921\n",
      "4 2016-07-07  95.699997  96.500000  95.620003  95.940002  25139600  94.525831\n",
      "5 2016-07-06  94.599998  95.660004  94.370003  95.529999  30949100  94.121870\n",
      "6 2016-07-05  95.389999  95.400002  94.459999  94.989998  27705200  93.589829\n",
      "7 2016-07-01  95.489998  96.470001  95.330002  95.889999  26026500  94.476565\n",
      "8 2016-06-30  94.440002  95.769997  94.300003  95.599998  35836400  94.190838\n",
      "9 2016-06-29  93.970001  94.550003  93.629997  94.400002  36531000  93.008530\n"
     ]
    }
   ],
   "source": [
    "print(APPL[1:10])"
   ]
  },
  {
   "cell_type": "markdown",
   "metadata": {},
   "source": [
    "and the columns by dictionary keys:"
   ]
  },
  {
   "cell_type": "code",
   "execution_count": 5,
   "metadata": {},
   "outputs": [
    {
     "name": "stdout",
     "output_type": "stream",
     "text": [
      "1   2016-07-12\n",
      "2   2016-07-11\n",
      "3   2016-07-08\n",
      "4   2016-07-07\n",
      "5   2016-07-06\n",
      "6   2016-07-05\n",
      "7   2016-07-01\n",
      "8   2016-06-30\n",
      "9   2016-06-29\n",
      "Name: Date, dtype: datetime64[ns]\n"
     ]
    }
   ],
   "source": [
    "print(APPL[\"Date\"][1:10])"
   ]
  },
  {
   "cell_type": "markdown",
   "metadata": {},
   "source": [
    "Notice the \"Open\" column has floats, while the \"Volume\" column has ints:"
   ]
  },
  {
   "cell_type": "code",
   "execution_count": 6,
   "metadata": {},
   "outputs": [
    {
     "name": "stdout",
     "output_type": "stream",
     "text": [
      "<class 'numpy.float64'>\n",
      "<class 'numpy.int64'>\n"
     ]
    }
   ],
   "source": [
    "print(type(APPL[\"Open\"][0]))\n",
    "print(type(APPL[\"Volume\"][0]))"
   ]
  },
  {
   "cell_type": "markdown",
   "metadata": {},
   "source": [
    "The weird column is Date, which has timestamp objects:"
   ]
  },
  {
   "cell_type": "code",
   "execution_count": 7,
   "metadata": {},
   "outputs": [
    {
     "name": "stdout",
     "output_type": "stream",
     "text": [
      "<class 'pandas._libs.tslibs.timestamps.Timestamp'>\n"
     ]
    }
   ],
   "source": [
    "print(type(APPL[\"Date\"][0]))"
   ]
  },
  {
   "cell_type": "markdown",
   "metadata": {},
   "source": [
    "You can do the usual math with floats and ints:"
   ]
  },
  {
   "cell_type": "code",
   "execution_count": 62,
   "metadata": {},
   "outputs": [
    {
     "name": "stdout",
     "output_type": "stream",
     "text": [
      "-0.29999499999999557\n",
      "\n",
      "0   -0.540001\n",
      "1    0.250000\n",
      "2    0.230003\n",
      "3    0.190002\n",
      "4    0.240005\n",
      "5    0.930001\n",
      "6   -0.400001\n",
      "7    0.400001\n",
      "8    1.159996\n",
      "9    0.430001\n",
      "dtype: float64\n"
     ]
    }
   ],
   "source": [
    "## element-wise subtraction\n",
    "print(APPL[\"Close\"][0] - APPL[\"Open\"][1])\n",
    "print(\"\")\n",
    "## vector-wise subtraction\n",
    "print(APPL[\"Close\"][0:10] - APPL[\"Open\"][0:10])"
   ]
  },
  {
   "cell_type": "markdown",
   "metadata": {},
   "source": [
    "#### So this is actually a type of timeseries data\n",
    "There are seval numeric data columns, with the dates as the time stamps. If you wanted to plot any of the columns as a timeseries, you would have to be sure the intervals are correct! This can be done automatically, or you can subtract adjacent values to determine intervals. Here's an example subtracting two times to get the difference in days:"
   ]
  },
  {
   "cell_type": "code",
   "execution_count": 63,
   "metadata": {},
   "outputs": [
    {
     "name": "stdout",
     "output_type": "stream",
     "text": [
      "2016-07-13 00:00:00\n",
      "2016-06-29 00:00:00\n",
      "\n",
      "Day 0 and day 9 are actually 14 days apart!\n"
     ]
    }
   ],
   "source": [
    "print(APPL[\"Date\"][0])\n",
    "print(APPL[\"Date\"][9])\n",
    "print(\"\")\n",
    "print(\"Day 0 and day 9 are actually \"+str((APPL[\"Date\"][0] - APPL[\"Date\"][9]).days)+\" days apart!\")"
   ]
  },
  {
   "cell_type": "markdown",
   "metadata": {},
   "source": [
    "### Text\n",
    "The file I've got for you here is Hermin Mellville's Moby Dick. This is kind of like the E. coli/lab rat of the text analysis world. I'm going to go super basic and load this text file in one chunk as a string."
   ]
  },
  {
   "cell_type": "code",
   "execution_count": 74,
   "metadata": {},
   "outputs": [],
   "source": [
    "with open(\"MobyDick.txt\", \"r\",encoding='utf-8') as f:\n",
    "    MobyDick = f.read()"
   ]
  },
  {
   "cell_type": "markdown",
   "metadata": {},
   "source": [
    "Strings are really just lists, so we can look at the beginning of the text by slicing:"
   ]
  },
  {
   "cell_type": "code",
   "execution_count": 76,
   "metadata": {
    "scrolled": true
   },
   "outputs": [
    {
     "name": "stdout",
     "output_type": "stream",
     "text": [
      "﻿\n",
      "\n",
      "\n",
      "The Project Gutenberg EBook of Moby Dick; or The Whale, by Herman\n",
      "Melville\n",
      "\n",
      "This eBook is for the use of anyone anywhere at no cost and with almost\n",
      "no restrictions whatsoever. You may copy it, give it away or re-use\n",
      "it under the terms of the Project Gutenberg License included with this\n",
      "eBook or online at www.gutenberg.org\n",
      "\n",
      "\n",
      "Title: Moby Dick; or The Whale\n",
      "\n",
      "Author: Herman Melville\n",
      "\n",
      "Release Date: December 25, 2008 [EBook #2701]\n",
      "\n",
      "Last Updated: October 24, 2016\n",
      "\n",
      "Language: English\n",
      "\n",
      "Character set encoding: UTF-8\n",
      "\n",
      "*** START OF THIS PROJECT GUTENBERG EBOOK MOBY DICK; OR THE WHALE ***\n",
      "\n",
      "\n",
      "\n",
      "\n",
      "Produced by Daniel Lazarus, Jonesey, and David Widger\n",
      "\n",
      "\n",
      "\n",
      "\n",
      "\n",
      "\n",
      "\n",
      "\n",
      "MOBY DICK;\n",
      "\n",
      "\n",
      "or, THE WHALE.\n",
      "\n",
      "\n",
      "By Herman Melville\n",
      "\n",
      "\n",
      "\n",
      "\n",
      "\n",
      "    CONTENTS\n",
      "\n",
      "\n",
      "    ETYMOLOGY.\n",
      "\n",
      "    EXTRACTS (Supplied by a Sub-Sub-Librarian).\n",
      "\n",
      "\n",
      "    CHAPTER 1. Loomings.\n",
      "\n",
      "    CHAPTER 2. The Carpet-Bag.\n",
      "\n",
      "    CHAPTER 3. The Spouter-Inn.\n",
      "\n",
      "    CHAPTER 4. The Counterpane.\n",
      "\n",
      "    CHAPTER 5. Breakfast.\n",
      "\n",
      "    CHAPTER 6. The Street.\n",
      "\n",
      "    CHAPTER 7. The Chapel.\n",
      "\n",
      "    CHAPTER 8. The Pulpit.\n",
      "\n",
      "    CHAPTER 9. The Sermon.\n",
      "\n",
      "    CHAPTER 10. A Bosom Friend.\n",
      "\n",
      "    CHAPTER 11. Nightgown.\n",
      "\n",
      "    CHAPTER 12. Biographical.\n",
      "\n",
      "    CHAPTER 13. Wheelbarrow.\n",
      "\n",
      "    CHAPTER 14. Nantucket.\n",
      "\n",
      "    CHAPTER 15. Chowder.\n",
      "\n",
      "    CHAPTER 16. The Ship.\n",
      "\n",
      "    CHAPTER 17. The Ramadan.\n",
      "\n",
      "    CHAPTER 18. His Mark.\n",
      "\n",
      "    CHAPTER 19. The Prophet.\n",
      "\n",
      "    CHAPTER 20. All Astir.\n",
      "\n",
      "    CHAPTER 21. Going Aboard.\n",
      "\n",
      "    CHAPTER 22. Merry Christmas.\n",
      "\n",
      "    CHAPTER 23. The Lee Shore.\n",
      "\n",
      "    CHAPTER 24. The Advocate.\n",
      "\n",
      "    CHAPTER 25. Postscript.\n",
      "\n",
      "    CHAPTER 26. Knights and Squires.\n",
      "\n",
      "    CHAPTER 27. Knights and Squires.\n",
      "\n",
      "    CHAPTER 28. Ahab.\n",
      "\n",
      "    CHAPTER 29. Enter Ahab; to Him, Stubb.\n",
      "\n",
      "    CHAPTER 30. The Pipe.\n",
      "\n",
      "    CHAPTER 31. Queen Mab.\n",
      "\n",
      "    CHAPTER 32. Cetology.\n",
      "\n",
      "    CHAPTER 33. The Specksnyder.\n",
      "\n",
      "    CHAPTER 34. The Cabin-Table.\n",
      "\n",
      "    CHAPTER 35. The Mast-Head.\n",
      "\n",
      "    CHAPTER 36. The Quarter-Deck.\n",
      "\n",
      "    CHAPTER 37. Sunset.\n",
      "\n",
      "    CHAPTER 38. Dusk.\n",
      "\n",
      "    CHAPTER 39. First Night Watch.\n",
      "\n",
      "    CHAPTER 40. Midnight, Forecastle.\n",
      "\n",
      "    CHAPTER 41. Moby Dick.\n",
      "\n",
      "    CHAPTER 42. The Whiteness of The Whale.\n",
      "\n",
      "    CHAPTER 43. Hark!\n",
      "\n",
      "    CHAPTER 44. The Chart.\n",
      "\n",
      "    CHAPTER 45. The Affidavit.\n",
      "\n",
      "    CHAPTER 46. Surmises.\n",
      "\n",
      "    CHAPTER 47. The Mat-Maker.\n",
      "\n",
      "    CHAPTER 48. The First Lowering.\n",
      "\n",
      "    CHAPTER 49. The Hyena.\n",
      "\n",
      "    CHAPTER 50. Ahab’s Boat and Crew. Fedallah.\n",
      "\n",
      "    CHAPTER 51. The Spirit-Spout.\n",
      "\n",
      "    CHAPTER 52. The Albatross.\n",
      "\n",
      "    CHAPTER 53. The Gam.\n",
      "\n",
      "    CHAPTER 54. The Town-Ho’s Story.\n",
      "\n",
      "    CHAPTER 55. Of the Monstrous Pictures of Whales.\n",
      "\n",
      "    CHAPTER 56. Of the Less Erroneous Pictures of Whales, and the True Pictures of Whaling Scenes.\n",
      "\n",
      "    CHAPTER 57. Of Whales in Paint; in Teeth; in Wood; in Sheet-Iron; in Stone; in Mountains; in Stars.\n",
      "\n",
      "    CHAPTER 58. Brit.\n",
      "\n",
      "    CHAPTER 59. Squid.\n",
      "\n",
      "    CHAPTER 60. The Line.\n",
      "\n",
      "    CHAPTER 61. Stubb Kills a Whale.\n",
      "\n",
      "    CHAPTER 62. The Dart.\n",
      "\n",
      "    CHAPTER 63. The Crotch.\n",
      "\n",
      "    CHAPTER 64. Stubb’s Supper.\n",
      "\n",
      "    CHAPTER 65. The Whale as a Dish.\n",
      "\n",
      "    CHAPTER 66. The Shark Massacre.\n",
      "\n",
      "    CHAPTER 67. Cutting In.\n",
      "\n",
      "    CHAPTER 68. The Blanket.\n",
      "\n",
      "    CHAPTER 69. The Funeral.\n",
      "\n",
      "    CHAPTER 70. The Sphynx.\n",
      "\n",
      "    CHAPTER 71. The Jeroboam’s Story.\n",
      "\n",
      "    CHAPTER 72. The Monkey-Rope.\n",
      "\n",
      "    CHAPTER 73. Stubb and Flask Kill a Right Whale; and Then Have a Talk\n",
      "\n",
      "    CHAPTER 74. The Sperm Whale’s Head—Contrasted View.\n",
      "\n",
      "    CHAPTER 75. The Right Whale’s Head—Contrasted View.\n",
      "\n",
      "    CHAPTER 76. The Battering-Ram.\n",
      "\n",
      "    CHAPTER 77. The Great Heidelburgh Tun.\n",
      "\n",
      "    CHAPTER 78. Cistern and Buckets.\n",
      "\n",
      "    CHAPTER 79. The Prairie.\n",
      "\n",
      "    CHAPTER 80. The Nut.\n",
      "\n",
      "    CHAPTER 81. The Pequod Meets The Virgin.\n",
      "\n",
      "    CHAPTER 82. The Honour and Glory of Whaling.\n",
      "\n",
      "    CHAPTER 83. Jonah Historically Regarded.\n",
      "\n",
      "    CHAPTER 84. Pitchpoling.\n",
      "\n",
      "    CHAPTER 85. The Fountain.\n",
      "\n",
      "    CHAPTER 86. The Tail.\n",
      "\n",
      "    CHAPTER 87. The Grand Armada.\n",
      "\n",
      "    CHAPTER 88. Schools and Schoolmasters.\n",
      "\n",
      "    CHAPTER 89. Fast-Fish and Loose-Fish.\n",
      "\n",
      "    CHAPTER 90. Heads or Tails.\n",
      "\n",
      "    CHAPTER 91. The Pequod Meets The Rose-Bud.\n",
      "\n",
      "    CHAPTER 92. Ambergris.\n",
      "\n",
      "    CHAPTER 93. The Castaway.\n",
      "\n",
      "    CHAPTER 94. A Squeeze of the Hand.\n",
      "\n",
      "    CHAPTER 95. The Cassock.\n",
      "\n",
      "    CHAPTER 96. The Try-Works.\n",
      "\n",
      "    CHAPTER 97. The Lamp.\n",
      "\n",
      "    CHAPTER 98. Stowing Down and Clearing Up.\n",
      "\n",
      "    CHAPTER 99. The Doubloon.\n",
      "\n",
      "    CHAPTER 100. Leg and Arm.\n",
      "\n",
      "    CHAPTER 101. The Decanter.\n",
      "\n",
      "    CHAPTER 102. A Bower in the Arsacides.\n",
      "\n",
      "    CHAPTER 103. Measurement of The Whale’s Skeleton.\n",
      "\n",
      "    CHAPTER 104. The Fossil Whale.\n",
      "\n",
      "    CHAPTER 105. Does the Whale’s Magnitude Diminish?—Will He Perish?\n",
      "\n",
      "    CHAPTER 106. Ahab’s Leg.\n",
      "\n",
      "    CHAPTER 107. The Carpenter.\n",
      "\n",
      "    CHAPTER 108. Ahab and the Carpenter.\n",
      "\n",
      "    CHAPTER 109. Ahab and Starbuck in the Cabin.\n",
      "\n",
      "    CHAPTER 110. Queequeg in His Coffin.\n",
      "\n",
      "    CHAPTER 111. The Pacific.\n",
      "\n",
      "    CHAPTER 112. The Blacksmith.\n",
      "\n",
      "    CHAPTER 113. The Forge.\n",
      "\n",
      "    CHAPTER 114. The Gilder.\n",
      "\n",
      "    CHAPTER 115. The Pequod Meets The Bachelor.\n",
      "\n",
      "    CHAPTER 116. The Dying Whale.\n",
      "\n",
      "    CHAPTER 117. The Whale Watch.\n",
      "\n",
      "    CHAPTER 118. The Quadrant.\n",
      "\n",
      "    CHAPTER 119. The Candles.\n",
      "\n",
      "    CHAPTER 120. The Deck Towards the End of the First Night Watch.\n",
      "\n",
      "    CHAPTER 121. Midnight.—The Forecastle Bulwarks.\n",
      "\n",
      "    CHAPTER 122. Midnight Aloft.—Thunder and Lightning.\n",
      "\n",
      "    CHAPTER 123. The Musket.\n",
      "\n",
      "    CHAPTER 124. The Needle.\n",
      "\n",
      "    CHAPTER 125. The Log and Line.\n",
      "\n",
      "    CHAPTER 126. The Life-Buoy.\n",
      "\n",
      "    CHAPTER 127. The Deck.\n",
      "\n",
      "    CHAPTER 128. The Pequod Meets The Rachel.\n",
      "\n",
      "    CHAPTER 129. The Cabin.\n",
      "\n",
      "    CHAPTER 130. The Hat.\n",
      "\n",
      "    CHAPTER 131. The Pequod Meets The Delight.\n",
      "\n",
      "    CHAPTER 132. The Symphony.\n",
      "\n",
      "    CHAPTER 133. The Chase—First Day.\n",
      "\n",
      "    CHAPTER 134. The Chase—Second Day.\n",
      "\n",
      "    CHAPTER 135. The Chase.—Third Day.\n",
      "\n",
      "    Epilogue\n",
      "\n",
      "\n",
      "\n",
      "\n",
      "\n",
      "Original Transcriber’s Notes:\n",
      "\n",
      "This text is a combination of etexts, one from the now-defunct ERIS\n",
      "project at Virginia Tech and one from Project Gutenberg’s archives.\n",
      "The proofreaders of this version are indebted to The University of\n",
      "Adelaide Library for preserving the Virginia Tech version. The resulting\n",
      "etext was compared with a public domain hard copy version of the text.\n",
      "\n",
      "In chapters 24, 89, and 90, we substituted a capital L for the symbol\n",
      "for the British pound, a unit of currency.\n",
      "\n",
      "\n",
      "\n",
      "\n",
      "\n",
      "ETYMOLOGY. (Supplied by a Late Consumptive Usher to a Grammar School.)\n",
      "\n",
      "The pale Usher—threadbare in coat, heart, body, and brain; I see him\n",
      "now. He was ever dusting his old lexicons and grammars, with a queer\n",
      "handkerchief, mockingly embellished with all the gay flags of all\n",
      "the known nations of the world. He loved to dust his old grammars; it\n",
      "somehow mildly reminded him of his mortality.\n",
      "\n",
      "“While you take in hand to school others, and to teach them by what\n",
      "name a whale-fish is to be called in our tongue, leaving out, through\n",
      "ignorance, the letter H, which almost alone maketh up the signification\n",
      "of the word, you deliver that which is not true.” —Hackluyt.\n",
      "\n",
      "“WHALE. * * * Sw. and Dan. hval. This animal is named from roundness\n",
      "or rolling; for in Dan. hvalt is arched or vaulted.” —Webster’s\n",
      "Dictionary.\n",
      "\n",
      "“WHALE. * * * It is more immediately from the Dut. and Ger. Wallen;\n",
      "A.S. Walwian, to roll, to wallow.” —Richardson’s Dictionary.\n",
      "\n",
      "     חן,                  Hebrew.  \n",
      "     ϰητος,               Greek.\n",
      "     CETUS,               Latin.\n",
      "     WHŒL,                Anglo-Saxon.\n",
      "     HVALT,               Danish.\n",
      "     WAL,                 Dutch.\n",
      "     HWAL,                Swedish.\n",
      "     WHALE,               Icelandic.\n",
      "     WHALE,               English.\n",
      "     BALEINE,             French.\n",
      "     BALLENA,             Spanish.\n",
      "     PEKEE-NUEE-NUEE,     Fegee.\n",
      "     PEHEE-NUEE-NUEE,     Erromangoan.\n",
      "\n",
      "\n",
      "\n",
      "\n",
      "\n",
      "EXTRACTS. (Supplied by a Sub-Sub-Librarian).\n",
      "\n",
      "It will be seen that this mere painstaking burrower and grub-worm of a\n",
      "poor devil of a Sub-Sub appears to have gone through the long Vaticans\n",
      "and street-stalls of the earth, picking up whatever random allusions to\n",
      "whales he could anyways find in any book whatsoever, sacred or\n",
      "profane. Therefore you must not, in every case at least, take the\n",
      "higgledy-piggledy whale statements, however authentic, in these\n",
      "extracts, for veritable gospel cetology. Far from it. As touching the\n",
      "ancient authors generally, as well as the poets here appearing, these\n",
      "extracts are solely valuable or entertaining, as affording a glancing\n",
      "bird’s eye view of what has been promiscuously said, thought, fancied,\n",
      "and sung of Leviathan, by many nations and generations, including our\n",
      "own.\n",
      "\n",
      "So fare thee well, poor devil of a Sub-Sub, whose commentator I am. Thou\n",
      "belongest to that hopeless, sallow tribe which no wine of this world\n",
      "will ever warm; and for whom even Pale Sherry would be too rosy-strong;\n",
      "but with whom one sometimes loves to sit, and feel poor-devilish, too;\n",
      "and grow convivial upon tears; and say to them bluntly, with full eyes\n",
      "and empty glasses, and in not altogether unpleasant sadness—Give\n",
      "it up, Sub-Subs! For by how much the more pains ye take to please the\n",
      "world, by so much the more shall ye for ever go thankless! Would that\n",
      "I could clear out Hampton Court and the Tuileries for ye! But gulp down\n",
      "your tears and hie aloft to the royal-mast with your hearts; for your\n",
      "friends who have gone before are clearing out the seven-storied heavens,\n",
      "and making refugees of long-pampered Gabriel, Michael, and\n",
      "Raphael, against your coming. Here ye strike but splintered hearts\n",
      "together—there, ye shall strike unsplinterable glasses! EXTRACTS.\n",
      "\n",
      "“And God created great whales.” —Genesis.\n",
      "\n",
      "“Leviathan maketh a path to shine after him; One would think the deep\n",
      "to be hoary.” —Job.\n",
      "\n",
      "“Now the Lord had prepared a great fish to swallow up Jonah.”\n",
      "—Jonah.\n",
      "\n",
      "“There go the ships; there is that Leviathan whom thou hast made to\n",
      "play therein.” —Psalms.\n",
      "\n",
      "“In that day, the Lord with his sore, and great, and strong sword,\n",
      "shall punish Leviathan the piercing serpent, even Leviathan that crooked\n",
      "serpent; and he shall slay the dragon that is in the sea.” —Isaiah.\n",
      "\n",
      "“And what thing soever besides cometh within the chaos of this\n",
      "monster’s mouth, be it beast, boat, or stone, down it goes all\n",
      "incont\n"
     ]
    }
   ],
   "source": [
    "print(MobyDick[:10000])"
   ]
  },
  {
   "cell_type": "markdown",
   "metadata": {},
   "source": [
    "#### Text is 'messy'\n",
    "As you can see, there is lots of leader text surrounding the main content, so a main focus with text processing if figuring out how to get what we want. This is where regular expressions come in handy. For the sake of simplicity, let's just grab the index."
   ]
  },
  {
   "cell_type": "code",
   "execution_count": 79,
   "metadata": {
    "scrolled": true
   },
   "outputs": [
    {
     "name": "stdout",
     "output_type": "stream",
     "text": [
      "Total chapters: 135\n",
      "\n",
      "This is what we've got for chapter 2:\n",
      "\n",
      "{'title': 'The Carpet-Bag.', 'text': ''}\n"
     ]
    }
   ],
   "source": [
    "index = {}\n",
    "for chapter in re.finditer(\"(CHAPTER\\s+\\d+)\\.\\s+([^\\n\\r]+)\", MobyDick):\n",
    "    ChapNum = chapter.group(1)\n",
    "    if not index.get(ChapNum, False):\n",
    "        index[ChapNum] = {\n",
    "            \"title\": chapter.group(2),\n",
    "            \"text\": \"\"\n",
    "        }\n",
    "print(\"Total chapters: \"+str(len(index.keys())))\n",
    "print(\"\")\n",
    "print(\"This is what we've got for chapter 2:\\n\")\n",
    "print(index[\"CHAPTER 2\"])"
   ]
  },
  {
   "cell_type": "markdown",
   "metadata": {},
   "source": [
    "Grabbing the index was pretty easy, because it was \"semi-structured\", but other forms of text and tasks are really not this nice! For example, now that we have the chapter names, we may want to find the individual chapters and separate them. How could we do this? (Note: The last chapter's text will include any text at the bottom of the document, requiring further preprocessing.)"
   ]
  },
  {
   "cell_type": "code",
   "execution_count": 83,
   "metadata": {
    "scrolled": true
   },
   "outputs": [
    {
     "name": "stdout",
     "output_type": "stream",
     "text": [
      "Total splits: 271\n",
      "\n",
      "Found 135 chapter texts in total!\n",
      "Here's what we got for CHAPTER 2: \n",
      "\n",
      "The Carpet-Bag.\n",
      "\n",
      "I stuffed a shirt or two into my old carpet-bag, tucked it under my arm,\n",
      "and started for Cape Horn and the Pacific. Quitting the good city of\n",
      "old Manhatto, I duly arrived in New Bedford. It was a Saturday night in\n",
      "December. Much was I disappointed upon learning that the little packet\n",
      "for Nantucket had already sailed, and that no way of reaching that place\n",
      "would offer, till the following Monday.\n",
      "\n",
      "As most young candidates for the pains and penalties of whaling stop at\n",
      "this same New Bedford, thence to embark on their voyage, it may as well\n",
      "be related that I, for one, had no idea of so doing. For my mind was\n",
      "made up to sail in no other than a Nantucket craft, because there was a\n",
      "fine, boisterous something about everything connected with that famous\n",
      "old island, which amazingly pleased me. Besides though New Bedford has\n",
      "of late been gradually monopolising the business of whaling, and though\n",
      "in this matter poor old Nantucket is now much behind her, yet Nantucket\n",
      "was her great original—the Tyre of this Carthage;—the place\n",
      "where the first dead American whale was stranded. Where else but from\n",
      "Nantucket did those aboriginal whalemen, the Red-Men, first sally out\n",
      "in canoes to give chase to the Leviathan? And where but from Nantucket,\n",
      "too, did that first adventurous little sloop put forth, partly laden\n",
      "with imported cobblestones—so goes the story—to throw at the whales,\n",
      "in order to discover when they were nigh enough to risk a harpoon from\n",
      "the bowsprit?\n",
      "\n",
      "Now having a night, a day, and still another night following before me\n",
      "in New Bedford, ere I could embark for my destined port, it became a\n",
      "matter of concernment where I was to eat and sleep meanwhile. It was a\n",
      "very dubious-looking, nay, a very dark and dismal night, bitingly cold\n",
      "and cheerless. I knew no one in the place. With anxious grapnels I had\n",
      "sounded my pocket, and only brought up a few pieces of silver,—So,\n",
      "wherever you go, Ishmael, said I to myself, as I stood in the middle of\n",
      "a dreary street shouldering my bag, and comparing the gloom towards the\n",
      "north with the darkness towards the south—wherever in your wisdom you\n",
      "may conclude to lodge for the night, my dear Ishmael, be sure to inquire\n",
      "the price, and don’t be too particular.\n",
      "\n",
      "With halting steps I paced the streets, and passed the sign of “The\n",
      "Crossed Harpoons”—but it looked too expensive and jolly there.\n",
      "Further on, from the bright red windows of the “Sword-Fish Inn,”\n",
      "there came such fervent rays, that it seemed to have melted the packed\n",
      "snow and ice from before the house, for everywhere else the congealed\n",
      "frost lay ten inches thick in a hard, asphaltic pavement,—rather weary\n",
      "for me, when I struck my foot against the flinty projections, because\n",
      "from hard, remorseless service the soles of my boots were in a most\n",
      "miserable plight. Too expensive and jolly, again thought I, pausing one\n",
      "moment to watch the broad glare in the street, and hear the sounds of\n",
      "the tinkling glasses within. But go on, Ishmael, said I at last; don’t\n",
      "you hear? get away from before the door; your patched boots are stopping\n",
      "the way. So on I went. I now by instinct followed the streets that\n",
      "took me waterward, for there, doubtless, were the cheapest, if not the\n",
      "cheeriest inns.\n",
      "\n",
      "Such dreary streets! blocks of blackness, not houses, on either hand,\n",
      "and here and there a candle, like a candle moving about in a tomb. At\n",
      "this hour of the night, of the last day of the week, that quarter of\n",
      "the town proved all but deserted. But presently I came to a smoky light\n",
      "proceeding from a low, wide building, the door of which stood invitingly\n",
      "open. It had a careless look, as if it were meant for the uses of the\n",
      "public; so, entering, the first thing I did was to stumble over an\n",
      "ash-box in the porch. Ha! thought I, ha, as the flying particles almost\n",
      "choked me, are these ashes from that destroyed city, Gomorrah? But\n",
      "“The Crossed Harpoons,” and “The Sword-Fish?”—this, then must\n",
      "needs be the sign of “The Trap.” However, I picked myself up and\n",
      "hearing a loud voice within, pushed on and opened a second, interior\n",
      "door.\n",
      "\n",
      "It seemed the great Black Parliament sitting in Tophet. A hundred black\n",
      "faces turned round in their rows to peer; and beyond, a black Angel\n",
      "of Doom was beating a book in a pulpit. It was a negro church; and the\n",
      "preacher’s text was about the blackness of darkness, and the weeping\n",
      "and wailing and teeth-gnashing there. Ha, Ishmael, muttered I, backing\n",
      "out, Wretched entertainment at the sign of ‘The Trap!’\n",
      "\n",
      "Moving on, I at last came to a dim sort of light not far from the docks,\n",
      "and heard a forlorn creaking in the air; and looking up, saw a swinging\n",
      "sign over the door with a white painting upon it, faintly representing\n",
      "a tall straight jet of misty spray, and these words underneath—“The\n",
      "Spouter Inn:—Peter Coffin.”\n",
      "\n",
      "Coffin?—Spouter?—Rather ominous in that particular connexion,\n",
      "thought I. But it is a common name in Nantucket, they say, and I suppose\n",
      "this Peter here is an emigrant from there. As the light looked so dim,\n",
      "and the place, for the time, looked quiet enough, and the dilapidated\n",
      "little wooden house itself looked as if it might have been carted here\n",
      "from the ruins of some burnt district, and as the swinging sign had a\n",
      "poverty-stricken sort of creak to it, I thought that here was the very\n",
      "spot for cheap lodgings, and the best of pea coffee.\n",
      "\n",
      "It was a queer sort of place—a gable-ended old house, one side palsied\n",
      "as it were, and leaning over sadly. It stood on a sharp bleak corner,\n",
      "where that tempestuous wind Euroclydon kept up a worse howling than ever\n",
      "it did about poor Paul’s tossed craft. Euroclydon, nevertheless, is\n",
      "a mighty pleasant zephyr to any one in-doors, with his feet on the hob\n",
      "quietly toasting for bed. “In judging of that tempestuous wind called\n",
      "Euroclydon,” says an old writer—of whose works I possess the only\n",
      "copy extant—“it maketh a marvellous difference, whether thou lookest\n",
      "out at it from a glass window where the frost is all on the outside, or\n",
      "whether thou observest it from that sashless window, where the frost is\n",
      "on both sides, and of which the wight Death is the only glazier.”\n",
      "True enough, thought I, as this passage occurred to my mind—old\n",
      "black-letter, thou reasonest well. Yes, these eyes are windows, and this\n",
      "body of mine is the house. What a pity they didn’t stop up the chinks\n",
      "and the crannies though, and thrust in a little lint here and there. But\n",
      "it’s too late to make any improvements now. The universe is finished;\n",
      "the copestone is on, and the chips were carted off a million years ago.\n",
      "Poor Lazarus there, chattering his teeth against the curbstone for his\n",
      "pillow, and shaking off his tatters with his shiverings, he might plug\n",
      "up both ears with rags, and put a corn-cob into his mouth, and yet that\n",
      "would not keep out the tempestuous Euroclydon. Euroclydon! says old\n",
      "Dives, in his red silken wrapper—(he had a redder one afterwards)\n",
      "pooh, pooh! What a fine frosty night; how Orion glitters; what northern\n",
      "lights! Let them talk of their oriental summer climes of everlasting\n",
      "conservatories; give me the privilege of making my own summer with my\n",
      "own coals.\n",
      "\n",
      "But what thinks Lazarus? Can he warm his blue hands by holding them up\n",
      "to the grand northern lights? Would not Lazarus rather be in Sumatra\n",
      "than here? Would he not far rather lay him down lengthwise along the\n",
      "line of the equator; yea, ye gods! go down to the fiery pit itself, in\n",
      "order to keep out this frost?\n",
      "\n",
      "Now, that Lazarus should lie stranded there on the curbstone before the\n",
      "door of Dives, this is more wonderful than that an iceberg should be\n",
      "moored to one of the Moluccas. Yet Dives himself, he too lives like a\n",
      "Czar in an ice palace made of frozen sighs, and being a president of a\n",
      "temperance society, he only drinks the tepid tears of orphans.\n",
      "\n",
      "But no more of this blubbering now, we are going a-whaling, and there is\n",
      "plenty of that yet to come. Let us scrape the ice from our frosted feet,\n",
      "and see what sort of a place this “Spouter” may be.\n",
      "\n",
      "\n",
      "\n",
      "\n",
      "\n"
     ]
    }
   ],
   "source": [
    "ByChapter = re.split(\"\\n(CHAPTER \\d+)\\. \", MobyDick)\n",
    "print(\"Total splits: \"+str(len(ByChapter)))\n",
    "TotalChapterTextsFound = 0\n",
    "for i in range(135):\n",
    "    if index.get(ByChapter[2*i+1],False):\n",
    "        TotalChapterTextsFound += 1\n",
    "        index[ByChapter[2*i+1]][\"text\"] = ByChapter[2*(i+1)]\n",
    "#         print(\"Found the text for \"+ByChapter[2*i+1]+\": \"+index[ByChapter[2*i+1]][\"title\"])\n",
    "print(\"\\nFound \"+str(TotalChapterTextsFound)+\" chapter texts in total!\")\n",
    "print(\"Here's what we got for CHAPTER 2: \\n\\n\"+index[\"CHAPTER 2\"][\"text\"])"
   ]
  },
  {
   "cell_type": "markdown",
   "metadata": {},
   "source": [
    "#### Pre-processing also includes feature selection\n",
    "A primary feature selection task is called \"tokenization.\" A basic way to get tokens is to split by spaces. Counting these \"words\" up creates the \"bag-of-words\" framework for text analysis."
   ]
  },
  {
   "cell_type": "code",
   "execution_count": 15,
   "metadata": {
    "scrolled": true
   },
   "outputs": [
    {
     "name": "stdout",
     "output_type": "stream",
     "text": [
      "Here are the top 100 words in CHAPTER 2:\n",
      "\n",
      "\n",
      "1: the\n",
      "2: a\n",
      "3: of\n",
      "4: and\n",
      "5: to\n",
      "6: I\n",
      "7: in\n",
      "8: that\n",
      "9: for\n",
      "10: was\n",
      "11: my\n",
      "12: it\n",
      "13: from\n",
      "14: is\n",
      "15: on\n",
      "16: as\n",
      "17: with\n",
      "18: this\n",
      "19: his\n",
      "20: not\n",
      "21: It\n",
      "22: had\n",
      "23: no\n",
      "24: I,\n",
      "25: up\n",
      "26: at\n",
      "27: were\n",
      "28: one\n",
      "29: he\n",
      "30: old\n",
      "31: New\n",
      "32: there\n",
      "33: about\n",
      "34: first\n",
      "35: did\n",
      "36: where\n",
      "37: night,\n",
      "38: before\n",
      "39: Ishmael,\n",
      "40: be\n",
      "41: too\n",
      "42: sign\n",
      "43: looked\n",
      "44: on,\n",
      "45: thought\n",
      "46: are\n",
      "47: here\n",
      "48: sort\n",
      "49: an\n",
      "50: little\n",
      "51: Nantucket\n",
      "52: their\n",
      "53: than\n",
      "54: which\n",
      "55: yet\n",
      "56: but\n",
      "57: they\n",
      "58: only\n",
      "59: stood\n",
      "60: came\n",
      "61: ice\n",
      "62: But\n",
      "63: if\n",
      "64: over\n",
      "65: these\n",
      "66: there.\n",
      "67: tempestuous\n",
      "68: thou\n",
      "69: Lazarus\n",
      "70: what\n",
      "71: The\n",
      "72: into\n",
      "73: night\n",
      "74: upon\n",
      "75: following\n",
      "76: stop\n",
      "77: Bedford,\n",
      "78: embark\n",
      "79: may\n",
      "80: so\n",
      "81: late\n",
      "82: been\n",
      "83: poor\n",
      "84: now\n",
      "85: great\n",
      "86: else\n",
      "87: give\n",
      "88: put\n",
      "89: when\n",
      "90: said\n",
      "91: dreary\n",
      "92: towards\n",
      "93: your\n",
      "94: expensive\n",
      "95: red\n",
      "96: seemed\n",
      "97: have\n",
      "98: house,\n",
      "99: lay\n",
      "100: hard,\n"
     ]
    }
   ],
   "source": [
    "for chapter in index:\n",
    "    tokens = re.split(\" \", index[chapter][\"text\"])\n",
    "    index[chapter][\"counts\"] = {}\n",
    "    for token in tokens:\n",
    "        index[chapter][\"counts\"].setdefault(token, 0)\n",
    "        index[chapter][\"counts\"][token] += 1\n",
    "\n",
    "words = sorted(index[\"CHAPTER 2\"][\"counts\"], key=lambda x: index[\"CHAPTER 2\"][\"counts\"][x], reverse = True)\n",
    "print(\"Here are the top 100 words in CHAPTER 2:\\n\\n\")\n",
    "\n",
    "print(\"\\n\".join([\": \".join(x) for x in zip(map(str,range(1,101)),words[0:100])]))"
   ]
  },
  {
   "cell_type": "markdown",
   "metadata": {},
   "source": [
    "### Images\n",
    "Image data is unstructured like text, but presents quite different challenges, as it does not generally represent a language. Let's start by loading our image in and displaying it."
   ]
  },
  {
   "cell_type": "code",
   "execution_count": 16,
   "metadata": {},
   "outputs": [],
   "source": [
    "with open('Rgb-raster-image_smile.jpg', 'rb') as inf:\n",
    "    jpgdata = inf.read()\n",
    "image_object = Image.open(BytesIO(jpgdata))"
   ]
  },
  {
   "cell_type": "code",
   "execution_count": 17,
   "metadata": {},
   "outputs": [
    {
     "name": "stdout",
     "output_type": "stream",
     "text": [
      "<PIL.JpegImagePlugin.JpegImageFile image mode=RGB size=368x400 at 0x1ABCECF4AC8>\n"
     ]
    },
    {
     "data": {
      "image/png": "[encoded data removed]",
      "text/plain": [
       "<PIL.JpegImagePlugin.JpegImageFile image mode=RGB size=368x400 at 0x1ABCECF4AC8>"
      ]
     },
     "metadata": {},
     "output_type": "display_data"
    }
   ],
   "source": [
    "print(image_object)\n",
    "display(image_object)"
   ]
  },
  {
   "cell_type": "markdown",
   "metadata": {},
   "source": [
    "#### What does image data actually look like?\n",
    "Recall, jpgs are just matricies pixes, which record the intensities of three colors: Red Green and Blue. This is encoded with a python image object as a three dimensional array, i.e., a matrix of triplicate numbers. This image is of size 368 x 400, so we can access pixels in x and y dimensions with indices up to those numbers! (Note: Our image object is only a generator, so the pixels are not actually retrieved unless they are loaded.)"
   ]
  },
  {
   "cell_type": "code",
   "execution_count": 18,
   "metadata": {},
   "outputs": [
    {
     "name": "stdout",
     "output_type": "stream",
     "text": [
      "(255, 255, 255)\n",
      "(20, 20, 12)\n",
      "(241, 240, 0)\n"
     ]
    }
   ],
   "source": [
    "px = image_object.load()\n",
    "print(px[0,0])\n",
    "print(px[183,199])\n",
    "print(px[183,100])"
   ]
  },
  {
   "cell_type": "markdown",
   "metadata": {},
   "source": [
    "To change a pixel to black, all we have to do is zero-out each of the bytes. To change a pixel to white, all we have to do is 255 (recall: there are 256 ways to arrange a single byte). We can do these operations for a bunch of pixes by double looping. (Note: When we alter the pixels, the changes take effect in the image object.)"
   ]
  },
  {
   "cell_type": "code",
   "execution_count": 19,
   "metadata": {},
   "outputs": [
    {
     "data": {
      "image/png": "[encoded data removed]",
      "text/plain": [
       "<PIL.JpegImagePlugin.JpegImageFile image mode=RGB size=368x400 at 0x1ABCECF4AC8>"
      ]
     },
     "metadata": {},
     "output_type": "display_data"
    }
   ],
   "source": [
    "for i in range(100):\n",
    "    for j in range(100):\n",
    "        px[i,j] = (0,0,0)\n",
    "        \n",
    "for i in range(200,301):\n",
    "    for j in range(200,301):\n",
    "        px[i,j] = (255,255,255)\n",
    "display(image_object)"
   ]
  },
  {
   "cell_type": "code",
   "execution_count": 20,
   "metadata": {},
   "outputs": [
    {
     "data": {
      "image/png": "[encoded data removed]",
      "text/plain": [
       "<PIL.JpegImagePlugin.JpegImageFile image mode=RGB size=368x400 at 0x1ABCECF4AC8>"
      ]
     },
     "metadata": {},
     "output_type": "display_data"
    }
   ],
   "source": [
    "for i in range(268,368):\n",
    "    for j in range(300,400):\n",
    "        px[i,j] = (0,0,0)\n",
    "display(image_object)"
   ]
  },
  {
   "cell_type": "markdown",
   "metadata": {},
   "source": [
    "All you have to do is change the RBG intensities to make a variety of colors."
   ]
  },
  {
   "cell_type": "code",
   "execution_count": 21,
   "metadata": {},
   "outputs": [
    {
     "data": {
      "image/png": "[encoded data removed]",
      "text/plain": [
       "<PIL.JpegImagePlugin.JpegImageFile image mode=RGB size=368x400 at 0x1ABCECF4AC8>"
      ]
     },
     "metadata": {},
     "output_type": "display_data"
    }
   ],
   "source": [
    "for i in range(0,368):\n",
    "    for j in range(200,301):\n",
    "        px[i,j] = ((i + j) % 256,i % 256,j % 256)\n",
    "display(image_object)"
   ]
  },
  {
   "cell_type": "markdown",
   "metadata": {},
   "source": [
    "#### What about features here?\n",
    "Features in images take on physical meanings, perhaps related to how we recognize things. So, for faces this might be the distances between eyes. However this means figuring out where the eyes are first."
   ]
  },
  {
   "cell_type": "code",
   "execution_count": 22,
   "metadata": {},
   "outputs": [
    {
     "data": {
      "image/png": "[encoded data removed]",
      "text/plain": [
       "<PIL.JpegImagePlugin.JpegImageFile image mode=RGB size=368x400 at 0x1ABCECF4AC8>"
      ]
     },
     "metadata": {},
     "output_type": "display_data"
    }
   ],
   "source": [
    "for i in range(166,206):\n",
    "    for j in range(101,141):\n",
    "        px[i,j] = px[i,j] = (0,0,0)\n",
    "        \n",
    "for i in range(246,286):\n",
    "    for j in range(101,141):\n",
    "        px[i,j] = px[i,j] = (0,0,0)\n",
    "display(image_object)"
   ]
  },
  {
   "cell_type": "markdown",
   "metadata": {},
   "source": [
    "So, it looks like the eyes here are about 80 pixels apart. The measurement of this feature might discern our smile from other smiles whose eyes are wider apart. For fun, let's reload the data (since we kind of wrecked it) and give our smile some crazy eyes!"
   ]
  },
  {
   "cell_type": "code",
   "execution_count": 23,
   "metadata": {},
   "outputs": [
    {
     "data": {
      "image/png": "[encoded data removed]",
      "text/plain": [
       "<PIL.JpegImagePlugin.JpegImageFile image mode=RGB size=368x400 at 0x1ABCF569A20>"
      ]
     },
     "metadata": {},
     "output_type": "display_data"
    }
   ],
   "source": [
    "with open('Rgb-raster-image_smile.jpg', 'rb') as inf:\n",
    "    jpgdata = inf.read()\n",
    "image_object = Image.open(BytesIO(jpgdata))\n",
    "px = image_object.load()\n",
    "\n",
    "for i in range(166,206):\n",
    "    for j in range(101,141):\n",
    "        px[i,j] = ((i * j) % 256,(i + j) % 256,(i - j) % 256)\n",
    "        \n",
    "for i in range(246,286):\n",
    "    for j in range(101,141):\n",
    "        px[i,j] = ((i * j) % 256,(i + j) % 256,(i - j) % 256)\n",
    "display(image_object)"
   ]
  },
  {
   "cell_type": "markdown",
   "metadata": {},
   "source": [
    "### XML\n",
    "The Extended Markup Language (XML) format is a verbose type of associative data. It uses nested tags: <\\key> ...value... </\\key>. To associate values to keys. Here, we've got a restaurant menu in XML format."
   ]
  },
  {
   "cell_type": "code",
   "execution_count": 24,
   "metadata": {},
   "outputs": [
    {
     "name": "stdout",
     "output_type": "stream",
     "text": [
      "<?xml version=\"1.0\" encoding=\"UTF-8\"?>\n",
      "<breakfast_menu>\n",
      "  <food>\n",
      "    <name>Belgian Waffles</name>\n",
      "    <price>$5.95</price>\n",
      "    <description>Two of our famous Belgian Waffles with plenty of real maple syrup</description>\n",
      "    <calories>650</calories>\n",
      "  </food>\n",
      "  <food>\n",
      "    <name>Strawberry Belgian Waffles</name>\n",
      "    <price>$7.95</price>\n",
      "    <description>Light Belgian waffles covered with strawberries and whipped cream</description>\n",
      "    <calories>900</calories>\n",
      "  </food>\n",
      "  <food>\n",
      "    <name>Berry-Berry Belgian Waffles</name>\n",
      "    <price>$8.95</price>\n",
      "    <description>Light Belgian waffles covered with an assortment of fresh berries and whipped cream</description>\n",
      "    <calories>900</calories>\n",
      "  </food>\n",
      "  <food>\n",
      "    <name>French Toast</name>\n",
      "    <price>$4.50</price>\n",
      "    <description>Thick slices made from our homemade sourdough bread</description>\n",
      "    <calories>600</calories>\n",
      "  </food>\n",
      "  <food>\n",
      "    <name>Homestyle Breakfast</name>\n",
      "    <price>$6.95</price>\n",
      "    <description>Two eggs, bacon or sausage, toast, and our ever-popular hash browns</description>\n",
      "    <calories>950</calories>\n",
      "  </food>\n",
      "</breakfast_menu>\n",
      "\n"
     ]
    }
   ],
   "source": [
    "with open(\"simple.xml\", \"r\") as f:\n",
    "    menu = f.read()\n",
    "print(menu)"
   ]
  },
  {
   "cell_type": "markdown",
   "metadata": {},
   "source": [
    "To get the keys and values out of the XML we will need to parse it. We could spend a long time cooking up our own regular expressions for this, but people have already done this quite well, and packed it into the BeautifulSoup module."
   ]
  },
  {
   "cell_type": "code",
   "execution_count": 25,
   "metadata": {},
   "outputs": [
    {
     "name": "stdout",
     "output_type": "stream",
     "text": [
      "<food>\n",
      "<name>Belgian Waffles</name>\n",
      "<price>$5.95</price>\n",
      "<description>Two of our famous Belgian Waffles with plenty of real maple syrup</description>\n",
      "<calories>650</calories>\n",
      "</food>\n"
     ]
    }
   ],
   "source": [
    "soup = BeautifulSoup(menu, 'lxml')\n",
    "print(soup.find('food'))"
   ]
  },
  {
   "cell_type": "markdown",
   "metadata": {},
   "source": [
    "It looks like the schema has each food with a name, price, description and calories. Let's code this into a nice python dict object so we could navigate it more easily."
   ]
  },
  {
   "cell_type": "code",
   "execution_count": 26,
   "metadata": {},
   "outputs": [
    {
     "name": "stdout",
     "output_type": "stream",
     "text": [
      "Here's what we've got not for Belgian Waffles:\n",
      "\n",
      "\n",
      "{'name': 'Belgian Waffles', 'price': 5.95, 'description': 'Two of our famous Belgian Waffles with plenty of real maple syrup', 'calories': 650}\n"
     ]
    }
   ],
   "source": [
    "ourmenu = {}\n",
    "for food in soup.find_all('food'):\n",
    "    ourmenu[food.find(\"name\").text] = {\n",
    "        \"name\": food.find(\"name\").text,\n",
    "        \"price\": float(re.sub(\"\\$\",\"\",food.find(\"price\").text)),\n",
    "        \"description\": food.find(\"description\").text,\n",
    "        \"calories\": int(food.find(\"calories\").text)\n",
    "    }\n",
    "print(\"Here's what we've got not for Belgian Waffles:\\n\\n\")\n",
    "print(ourmenu[\"Belgian Waffles\"])"
   ]
  },
  {
   "cell_type": "markdown",
   "metadata": {},
   "source": [
    "Since we've cvonverted the prices and calories to floats and ints, respectively, we can now measure some totals for a given mean. For example, let's order a Homestyle Breakfast with a side of Frencch Toast and check the damage."
   ]
  },
  {
   "cell_type": "code",
   "execution_count": 27,
   "metadata": {},
   "outputs": [
    {
     "name": "stdout",
     "output_type": "stream",
     "text": [
      "Name: Homestyle Breakfast\n",
      "Calories: 950\n",
      "Price: $6.95\n",
      "\n",
      "Name: French Toast\n",
      "Calories: 600\n",
      "Price: $4.5\n",
      "\n",
      "Total calories: 1550\n",
      "Total price: $11.45\n"
     ]
    }
   ],
   "source": [
    "price = 0.\n",
    "calories = 0\n",
    "for name in [\"Homestyle Breakfast\",\"French Toast\"]:\n",
    "    print(\"Name: \"+name)\n",
    "    print(\"Calories: \"+str(ourmenu[name][\"calories\"]))\n",
    "    print(\"Price: $\"+str(ourmenu[name][\"price\"]))\n",
    "    print(\"\")\n",
    "    price += ourmenu[name][\"price\"]\n",
    "    calories += ourmenu[name][\"calories\"]\n",
    "print(\"Total calories: \"+str(calories))\n",
    "print(\"Total price: $\"+str(price))"
   ]
  },
  {
   "cell_type": "markdown",
   "metadata": {},
   "source": [
    "### HTML\n",
    "HTML is just XML with a specific schema for encoding webpages. So, we can use BeautifulSoup just the same here to get text content and hyperlinks, etcetera."
   ]
  },
  {
   "cell_type": "code",
   "execution_count": 108,
   "metadata": {},
   "outputs": [
    {
     "name": "stdout",
     "output_type": "stream",
     "text": [
      "<!DOCTYPE html PUBLIC \"-//W3C//DTD HTML 4.01//EN\" \"http://www.w3.org/TR/html4/strict.dtd\">\n",
      "<html>\n",
      "<head>\n",
      "  <meta http-equiv=\"Content-Type\" content=\"text/html; charset=utf-8\">\n",
      "  <meta http-equiv=\"Content-Style-Type\" content=\"text/css\">\n",
      "  <title></title>\n",
      "  <meta name=\"Generator\" content=\"Cocoa HTML Writer\">\n",
      "  <meta name=\"CocoaVersion\" content=\"1504.82\">\n",
      "  <style type=\"text/css\">\n",
      "    body {background-color: #f0f0f2}\n",
      "    p.p2 {margin: 0.0px 0.0px 12.0px 0.0px; line-height: 14.0px; font: 12.0px 'Helvetica Neue'; color: #000000; -webkit-text-stroke: #000000}\n",
      "    p.p3 {margin: 0.0px 0.0px 12.0px 0.0px; line-height: 14.0px; font: 12.0px 'Helvetica Neue'; color: #38488f; -webkit-text-stroke: #38488f}\n",
      "    span.s1 {font-kerning: none; background-color: #ffffff}\n",
      "    span.s2 {font: 12.0px 'Helvetica Neue'; font-kerning: none; color: #38488f; -webkit-text-stroke: 0px #38488f}\n",
      "  </style>\n",
      "</head>\n",
      "<body>\n",
      "<h1 style=\"margin: 0.0px 0.0px 16.1px 0.0px; line-height: 29.0px; font: 24.0px 'Helvetica Neue'; color: #000000; -webkit-text-stroke: #000000\"><span class=\"s1\"><b>Example Domain</b></span></h1>\n",
      "<p class=\"p2\"><span class=\"s1\">This domain is established to be used for illustrative examples in documents. You may use this domain in examples without prior coordination or asking for permission.</span></p>\n",
      "<p class=\"p3\"><span class=\"s1\"><a href=\"http://www.iana.org/domains/example\">More information...<span class=\"s2\"></span></a></span></p>\n",
      "</body>\n",
      "</html>\n",
      "\n"
     ]
    }
   ],
   "source": [
    "with open(\"index.html\", \"r\") as f:\n",
    "    webpage = f.read()\n",
    "print(webpage)"
   ]
  },
  {
   "cell_type": "markdown",
   "metadata": {},
   "source": [
    "Usually, content text lives in <\\p> tags in the <\\body>, and hyperlinks live in <\\a> tags."
   ]
  },
  {
   "cell_type": "code",
   "execution_count": 29,
   "metadata": {},
   "outputs": [
    {
     "name": "stdout",
     "output_type": "stream",
     "text": [
      "Here are any body paragraphs:\n",
      "\n",
      "Paragraph: This domain is established to be used for illustrative examples in documents. You may use this domain in examples without prior coordination or asking for permission.\n",
      "\n",
      "\n",
      "\n",
      "Here are any Hyperlink display texts and URLs:\n",
      "\n",
      "Hyperlink display text: More information...\n",
      "Hyperlink URL: http://www.iana.org/domains/example\n"
     ]
    }
   ],
   "source": [
    "websoup = BeautifulSoup(webpage, 'lxml')\n",
    "print(\"Here are any body paragraphs:\\n\")\n",
    "for paragraph in websoup.find_all(\"body\"):\n",
    "    print(\"Paragraph: \"+paragraph.find('p').text)\n",
    "    print(\"\")\n",
    "print(\"\\n\")\n",
    "print(\"Here are any Hyperlink display texts and URLs:\\n\")\n",
    "for hyperlink in websoup.find_all(\"a\"):\n",
    "    print(\"Hyperlink display text: \"+hyperlink.text)\n",
    "    print(\"Hyperlink URL: \"+hyperlink[\"href\"])"
   ]
  },
  {
   "cell_type": "markdown",
   "metadata": {},
   "source": [
    "### JSON\n",
    "JSON is probably the favorite associative array data type for most data scientists. In Pyton, it's very easy to load, and for its similarity to the Python dict object type can generally be navigated as such. Here, our json file is an example from YouTube's API."
   ]
  },
  {
   "cell_type": "code",
   "execution_count": 109,
   "metadata": {},
   "outputs": [
    {
     "name": "stdout",
     "output_type": "stream",
     "text": [
      "The data is actually one level into the schema:\n",
      "\n",
      "dict_keys(['apiVersion', 'data'])\n",
      "\n",
      "Here are the keys for the data on this video:\n",
      "\n",
      "dict_keys(['updated', 'totalItems', 'startIndex', 'itemsPerPage', 'items'])\n"
     ]
    }
   ],
   "source": [
    "with open(\"youtube.json\", \"r\") as f:\n",
    "    video = json.loads(f.read())\n",
    "print(\"The data is actually one level into the schema:\\n\")\n",
    "print(video.keys())\n",
    "print(\"\")\n",
    "print(\"Here are the keys for the data on this video:\\n\")\n",
    "print(video[\"data\"].keys())"
   ]
  },
  {
   "cell_type": "markdown",
   "metadata": {},
   "source": [
    "Within a list, the individual items are a good place to start exploring. Let's look at the first (only) item. Note That the values that we are printing out must be converted to strings. This is actually awesome, because it means that the json format implicitly encodes the object types, even in a text serialization (unlike XML). This is a real advantage for convenience in working with data&mdash;you don't necessarily have to cast types!"
   ]
  },
  {
   "cell_type": "code",
   "execution_count": 31,
   "metadata": {},
   "outputs": [
    {
     "name": "stdout",
     "output_type": "stream",
     "text": [
      "id: hYB0mn5zh2c\n",
      "uploaded: 2007-06-05T22:07:03.000Z\n",
      "updated: 2010-01-07T13:26:50.000Z\n",
      "uploader: GoogleDeveloperDay\n",
      "category: News\n",
      "title: Google Developers Day US - Maps API Introduction\n",
      "description: Google Maps API Introduction ...\n",
      "tags: ['GDD07', 'GDD07US', 'Maps']\n",
      "thumbnail: {'default': 'http://i.ytimg.com/vi/hYB0mn5zh2c/default.jpg', 'hqDefault': 'http://i.ytimg.com/vi/hYB0mn5zh2c/hqdefault.jpg'}\n",
      "player: {'default': 'http://www.youtube.com/watch?vu003dhYB0mn5zh2c'}\n",
      "content: {'1': 'rtsp://v5.cache3.c.youtube.com/CiILENy.../0/0/0/video.3gp', '5': 'http://www.youtube.com/v/hYB0mn5zh2c?f...', '6': 'rtsp://v1.cache1.c.youtube.com/CiILENy.../0/0/0/video.3gp'}\n",
      "duration: 2840\n",
      "aspectRatio: widescreen\n",
      "rating: 4.63\n",
      "ratingCount: 68\n",
      "viewCount: 220101\n",
      "favoriteCount: 201\n",
      "commentCount: 22\n",
      "status: {'value': 'restricted', 'reason': 'limitedSyndication'}\n",
      "accessControl: {'syndicate': 'allowed', 'commentVote': 'allowed', 'rate': 'allowed', 'list': 'allowed', 'comment': 'allowed', 'embed': 'allowed', 'videoRespond': 'moderated'}\n"
     ]
    }
   ],
   "source": [
    "for key in video[\"data\"][\"items\"][0]:\n",
    "    print(key+\": \"+str(video[\"data\"][\"items\"][0][key]))"
   ]
  },
  {
   "cell_type": "markdown",
   "metadata": {},
   "source": [
    "Creating your own json files is also quite easy because of the dict-json parallel. Let's take our converted restaurant menu and write out to a json file."
   ]
  },
  {
   "cell_type": "code",
   "execution_count": 111,
   "metadata": {},
   "outputs": [],
   "source": [
    "with open(\"simple.json\", \"w\") as f:\n",
    "    f.write(json.dumps(ourmenu))"
   ]
  },
  {
   "cell_type": "markdown",
   "metadata": {},
   "source": [
    "The really cool thing about writing out the menu to json format (as we did) is that the json (unlike XML) format will carry forward the object tupes in the file. So, just as our YouTube data came in as ints and floats, the type changes that we made to the menu will be preserved in the output format!"
   ]
  }
 ],
 "metadata": {
  "kernelspec": {
   "display_name": "Python 3",
   "language": "python",
   "name": "python3"
  },
  "language_info": {
   "codemirror_mode": {
    "name": "ipython",
    "version": 3
   },
   "file_extension": ".py",
   "mimetype": "text/x-python",
   "name": "python",
   "nbconvert_exporter": "python",
   "pygments_lexer": "ipython3",
   "version": "3.7.3"
  }
 },
 "nbformat": 4,
 "nbformat_minor": 2
}
